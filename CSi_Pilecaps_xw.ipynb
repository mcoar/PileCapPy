{
 "cells": [
  {
   "cell_type": "markdown",
   "metadata": {},
   "source": [
    "# Open ETABS"
   ]
  },
  {
   "cell_type": "code",
   "execution_count": 88,
   "metadata": {},
   "outputs": [],
   "source": [
    "import os\n",
    "import sys\n",
    "import comtypes.client\n",
    "import openpyxl\n",
    "\n",
    "#set the following flag to True to attach to an existing instance of the program\n",
    "#otherwise a new instance of the program will be started\n",
    "AttachToInstance = False\n",
    "\n",
    "#set the following flag to True to manually specify the path to ETABS.exe\n",
    "#this allows for a connection to a version of ETABS other than the latest installation\n",
    "#otherwise the latest installed version of ETABS will be launched\n",
    "SpecifyPath = True\n",
    "\n",
    "#if the above flag is set to True, specify the path to ETABS below\n",
    "ProgramPath = \"C:\\Program Files\\Computers and Structures\\ETABS 17\\ETABS.exe\"\n",
    "\n",
    "#full path to the model\n",
    "#set it to the desired path of your model\n",
    "APIPath = r\"C:\\Users\\mcoar\\Documents\\P1293\\P1293_Lagos\\ETABS\\V2.0\"\n",
    "if not os.path.exists(APIPath):\n",
    "    try:\n",
    "        os.makedirs(APIPath)\n",
    "    except OSError:\n",
    "        pass\n",
    "FileName = 'P1293-B_V2.0.edb'\n",
    "ModelPath = APIPath + os.sep + FileName\n",
    "\n",
    "if AttachToInstance:\n",
    "    #attach to a running instance of ETABS\n",
    "    try:\n",
    "        #get the active ETABS object\n",
    "        myETABSObject = comtypes.client.GetActiveObject(\"CSI.ETABS.API.ETABSObject\") \n",
    "    except (OSError, comtypes.COMError):\n",
    "        print(\"No running instance of the program found or failed to attach.\")\n",
    "        sys.exit(-1)\n",
    "\n",
    "else:\n",
    "    #create API helper object\n",
    "    helper = comtypes.client.CreateObject('ETABS2016.Helper')\n",
    "    helper = helper.QueryInterface(comtypes.gen.ETABS2016.cHelper)\n",
    "    if SpecifyPath:\n",
    "        try:\n",
    "            #'create an instance of the ETABS object from the specified path\n",
    "            myETABSObject = helper.CreateObject(ProgramPath)\n",
    "        except (OSError, comtypes.COMError):\n",
    "            print(\"Cannot start a new instance of the program from \" + ProgramPath)\n",
    "            sys.exit(-1)\n",
    "    else:\n",
    "\n",
    "        try: \n",
    "            #create an instance of the ETABS object from the latest installed ETABS\n",
    "            myETABSObject = helper.CreateObjectProgID(\"CSI.ETABS.API.ETABSObject\") \n",
    "        except (OSError, comtypes.COMError):\n",
    "            print(\"Cannot start a new instance of the program.\")\n",
    "            sys.exit(-1)\n",
    "\n",
    "    #start ETABS application\n",
    "    myETABSObject.ApplicationStart()"
   ]
  },
  {
   "cell_type": "markdown",
   "metadata": {},
   "source": [
    "# Open Model"
   ]
  },
  {
   "cell_type": "code",
   "execution_count": 89,
   "metadata": {},
   "outputs": [],
   "source": [
    "#create SapModel object\n",
    "SapModel = myETABSObject.SapModel\n",
    "\n",
    "#initialize model\n",
    "SapModel.InitializeNewModel()\n",
    "\n",
    "#open an existing file \n",
    "ret = SapModel.File.OpenFile(ModelPath)\n",
    "\n",
    "#switch to k-in units\n",
    "# kip_in_F = 3\n",
    "# ret = SapModel.SetPresentUnits(kip_in_F)\n"
   ]
  },
  {
   "cell_type": "markdown",
   "metadata": {},
   "source": [
    "# Run Model"
   ]
  },
  {
   "cell_type": "code",
   "execution_count": 90,
   "metadata": {},
   "outputs": [],
   "source": [
    "#run model (this will create the analysis model)\n",
    "ret = SapModel.Analyze.RunAnalysis()"
   ]
  },
  {
   "cell_type": "markdown",
   "metadata": {},
   "source": [
    "# Test Bed"
   ]
  },
  {
   "cell_type": "markdown",
   "metadata": {},
   "source": [
    "## Retrieve the names of all frames connected to the story LO1."
   ]
  },
  {
   "cell_type": "code",
   "execution_count": 91,
   "metadata": {},
   "outputs": [
    {
     "name": "stdout",
     "output_type": "stream",
     "text": [
      "96\n"
     ]
    }
   ],
   "source": [
    "StoryName = 'L01'\n",
    "NumberNames = 0\n",
    "MyName = []\n",
    "[NumberNames, MyName, ret] = SapModel.FrameObj.GetNameListOnStory(StoryName,NumberNames,MyName)\n",
    "print(NumberNames)"
   ]
  },
  {
   "cell_type": "markdown",
   "metadata": {},
   "source": [
    "## Retrieve the names of all frames (i.e., columns) in the user-defined group \"BaseColumn\""
   ]
  },
  {
   "cell_type": "code",
   "execution_count": 92,
   "metadata": {},
   "outputs": [
    {
     "name": "stdout",
     "output_type": "stream",
     "text": [
      "38\n"
     ]
    }
   ],
   "source": [
    "GroupName = \"BaseColumn\"\n",
    "NumberItems = 0  # initialize as double\n",
    "ObjectType = []  # initialize as empty list\n",
    "ObjectName = []  # initialize as empty list\n",
    "[NumberItems, ObjectType, ObjectName, ret] = SapModel.GroupDef.GetAssignments(GroupName,NumberItems,ObjectType,ObjectName)\n",
    "print(NumberItems)\n",
    "    "
   ]
  },
  {
   "cell_type": "markdown",
   "metadata": {},
   "source": [
    "## Retrieve the forces in the columns in the user-defined group \"BaseColumn\""
   ]
  },
  {
   "cell_type": "code",
   "execution_count": 93,
   "metadata": {},
   "outputs": [],
   "source": [
    "# deselect all cases and combos\n",
    "ret = SapModel.Results.Setup.DeselectAllCasesAndCombosForOutput()\n",
    "# set case selected for output\n",
    "ret = SapModel.Results.Setup.SetCaseSelectedForOutput(\"CDL\")\n",
    "# initialize variable names\n",
    "GroupName = \"BaseColumn\"\n",
    "ItemType = 2      # eItemTypeElm.2 = a group item\n",
    "NumberResults = 0\n",
    "Obj = []; ObjSta = []\n",
    "Elm = []; ElmSta = []\n",
    "LoadCase = ['CDL']\n",
    "StepType = []; StepNum = []\n",
    "P = []\n",
    "V2 = []; V3 = []\n",
    "T = []\n",
    "M2 = []; M3 = []\n",
    "\n",
    "[NumberResults, Obj, ObjSta, Elm, ElmSta, LoadCase, StepType, StepNum, P, V2, V3, T, M2, M3, ret] = \\\n",
    "SapModel.Results.FrameForce(\"BaseColumn\", \\\n",
    "                            ItemType, NumberResults, Obj, ObjSta, Elm, ElmSta, LoadCase, StepType, StepNum, \\\n",
    "                            P, V2, V3, T, M2, M3)"
   ]
  },
  {
   "cell_type": "markdown",
   "metadata": {},
   "source": [
    "# Close ETABS"
   ]
  },
  {
   "cell_type": "code",
   "execution_count": 94,
   "metadata": {},
   "outputs": [],
   "source": [
    "#save model\n",
    "ret = SapModel.File.Save(ModelPath)\n",
    "\n",
    "#close the program\n",
    "ret = myETABSObject.ApplicationExit(False)\n",
    "SapModel = None\n",
    "myETABSObject = None"
   ]
  },
  {
   "cell_type": "markdown",
   "metadata": {},
   "source": [
    "# Define Column Class"
   ]
  },
  {
   "cell_type": "code",
   "execution_count": 113,
   "metadata": {},
   "outputs": [],
   "source": [
    "class Col:\n",
    "    \n",
    "    level = 'L01'\n",
    "    \n",
    "    def __init__(self):\n",
    "        self.ID = []\n",
    "        self.Pu = []     # factored load on column [kip]\n",
    "        self.fc = []     # concrete strength of PILE [psi]\n",
    "        self.Np = []     # Number of piles\n",
    "        self.Pn = []     # Nominal capacity [kip]\n",
    "        self.c = []    # column square dimensions [in]\n",
    "        self.D = []      # Pilecap depth [in]\n",
    "        self.dp = []     # pile diameter [in]\n",
    "        self.spacing =[] # spacing between piles [in]\n",
    "        self.cover =  [] # minimum concrete cover [in]\n",
    "        self.dc =     [] # pile embedment [in]\n",
    "        self.E =      [] # edge distance [in]\n",
    "        self.NreinA = [] # Number of reinforcing bars in the long direction\n",
    "        self.SreinA = [] # Size   of reinforcing bars in the long direction\n",
    "        self.NreinB = [] # Number of reinforcing bars in the short direction\n",
    "        self.SreinB = [] # Size   of reinforcing bars in the short direction\n",
    "\n",
    "    def SelectCap(self, fc = 3, T = 40, maxdim = 30, maxD = 100):\n",
    "        \"\"\"\n",
    "        This method takes an object of class Col and chooses a tabulated column pile cap\n",
    "        design with maximum dimensions -maxdim- [ft] and max depth -maxD- [in]. Concrete \n",
    "        strength -fc- [ksi] and unfactored capacity -T- [tons]. \n",
    "        \"\"\"\n",
    "        import xlwings as xw\n",
    "        import time\n",
    "        \n",
    "        t = time.time()\n",
    "        app = xw.App(visible = False)\n",
    "        wb = app.books.open('H:\\Design Spreadsheets\\CRSIDesignTables\\PileCapTable.xlsx')\n",
    "        topen = time.time()-t\n",
    "        \n",
    "        t = time.time()\n",
    "        sn = str(fc)+'ksi-'+str(T)+'T'\n",
    "        sheet = wb.sheets[sn]\n",
    "        Nrows = sheet.range('A1').current_region.last_cell.row\n",
    "        begin = 8                                 # Header takes up 7 rows\n",
    "\n",
    "        \n",
    "        for x in range(begin,Nrows+1):\n",
    "#             print(\"{}:{}\".format(x,sheet.range(x,2).value))\n",
    "            try:\n",
    "                if sheet.range(x,2).value > abs(self.Pu): # Need to add checks for long and short dimensions\n",
    "                    Choice = x\n",
    "#                     print(\"Good! Pn = {0:4.0f} kip is greater than Pu = {1:4.0f} kip\".format(sheet.range(x,2).value, abs(self.Pu)))\n",
    "                    break\n",
    "                elif x == Nrows: # eventually need to add an option here to go to next worksheet if none of these work\n",
    "                    Choice = x\n",
    "#                     print(\"No good! but we haven't implemented a switch to the next worksheet, so we're just gonna \\n say this works until we do\")\n",
    "                else: \n",
    "#                     print(\"No good: Pn = {0:4.0f} kip must be greater than Pu = {1:4.0f} kip\".format(sheet.range(x,2).value, abs(self.Pu)))\n",
    "                    continue\n",
    "            except:\n",
    "#                     print('Likely a blank entry on the ')   \n",
    "                continue\n",
    "        tchoose = time.time() - t\n",
    "        \n",
    "        t = time.time()\n",
    "        self.Np = sheet.range(Choice,1).value       # Number of piles\n",
    "        self.Pn = abs(sheet.range(Choice,2).value)   # Nominal capacity [kip]\n",
    "        self.c = sheet.range(Choice,3).value     # column square dimensions [in]\n",
    "        self.D = sheet.range(Choice,8).value        # Pilecap depth [in]\n",
    "\n",
    "        self.dp = sheet.range(2,4).value          # pile diameter [in]\n",
    "        self.spacing = sheet.range(2, 5).value    # spacing between piles [in]\n",
    "        self.cover = sheet.range(2,6).value       # minimum concrete cover [in]\n",
    "        self.dc = sheet.range(2, 7).value         # pile embedment [in]\n",
    "        self.E = sheet.range(2,8).value           # edge distance [in]\n",
    "\n",
    "        self.NreinA = sheet.range(Choice,10).value # Number of reinforcing bars in the long direction\n",
    "        self.SreinA = sheet.range(Choice,11).value # Size   of reinforcing bars in the long direction\n",
    "        self.NreinB = sheet.range(Choice,13).value # Number of reinforcing bars in the short direction\n",
    "        self.SreinB = sheet.range(Choice,14).value # Size   of reinforcing bars in the short direction\n",
    "        \n",
    "        tassign = time.time()-t\n",
    "        print(\"{0}: {1:1.5f} {2:1.5f} {3:1.5f}\".format(self.ID,topen,tchoose,tassign))\n",
    "        \n",
    "        \n",
    "    def popxlsx(self,pn,fn):\n",
    "        \"\"\"\n",
    "        This method takes an instance of class Col() that has been assigned pile cap design parameters\n",
    "        based on method SelectCap() and populates a design workbook with these parameters for engineer\n",
    "        inspection.\n",
    "        \"\"\"\n",
    "        import xlwings as xw\n",
    "        ft = '.xlsx'                         # filetype\n",
    "        app = xw.App(visible = False)\n",
    "        wb = app.books.open(pn+fn+ft) # open workbook\n",
    "        ws = wb.sheets['DESIGN CRIT'] # make this sheet active\n",
    "\n",
    "        # Update sheet based on column parameters\n",
    "        ws.range('F45').value  = self.Np\n",
    "        ws.range('E30').value  = self.c\n",
    "        ws.range('E27').value  = self.D \n",
    "        ws.range('E29').value  = self.dp\n",
    "        ws.range('E103').value = self.spacing / 12 \n",
    "        ws.range('E38').value  = self.cover\n",
    "        ws.range('E31').value  = self.dc\n",
    "        ws.range('E28').value  = self.E\n",
    "        ws.range('E353').value = self.NreinA\n",
    "        ws.range('F353').value = '#'+str(self.SreinA)\n",
    "        ws.range('E387').value = self.NreinB\n",
    "        ws.range('F387').value = '#'+str(self.SreinB)              \n",
    "\n",
    "        wb.save(pn+fn+'_'+self.ID+ft) # save workbook\n",
    "        wb.close()\n"
   ]
  },
  {
   "cell_type": "markdown",
   "metadata": {},
   "source": [
    "# Select Tabulated PileCap Design"
   ]
  },
  {
   "cell_type": "code",
   "execution_count": 114,
   "metadata": {
    "scrolled": true
   },
   "outputs": [
    {
     "name": "stdout",
     "output_type": "stream",
     "text": [
      "Column - t_open - t_choose - t_assign\n",
      "C1: 16.63895 9.72656 7.47043\n",
      "Column - t_open - t_choose - t_assign\n",
      "C2: 22.19427 10.27659 9.51454\n",
      "Column - t_open - t_choose - t_assign\n",
      "C3: 19.34911 11.14964 11.32965\n",
      "Column - t_open - t_choose - t_assign\n",
      "C4: 23.91737 13.57778 10.42760\n",
      "Column - t_open - t_choose - t_assign\n",
      "C5: 23.77336 31.09178 5.07629\n",
      "Column - t_open - t_choose - t_assign\n",
      "C7: 23.24833 15.15187 5.24330\n",
      "Column - t_open - t_choose - t_assign\n",
      "C8: 23.50434 20.88919 5.37431\n",
      "Column - t_open - t_choose - t_assign\n",
      "C9: 22.63329 15.50489 13.33676\n",
      "Column - t_open - t_choose - t_assign\n",
      "C10: 24.87842 18.76407 10.95863\n",
      "Column - t_open - t_choose - t_assign\n",
      "C11: 25.40345 13.77579 11.47166\n",
      "Column - t_open - t_choose - t_assign\n",
      "C12: 23.40334 35.66004 5.59332\n"
     ]
    },
    {
     "name": "stderr",
     "output_type": "stream",
     "text": [
      "\n",
      "KeyboardInterrupt\n",
      "\n"
     ]
    }
   ],
   "source": [
    "# Create a dictionary of Column Names and Internal Forces\n",
    "columns = {}\n",
    "InternalForces = {}\n",
    "\n",
    "for i in range(0,len(Obj),3):\n",
    "    columns[\"C\"+Obj[i]] = Obj[i]\n",
    "    InternalForces[\"C\"+Obj[i]] = P[i]\n",
    "    \n",
    "# Replace the entries in the column dictionary with instances of class Col\n",
    "print('Column - t_open - t_choose - t_assign')\n",
    "for items in columns:\n",
    "    columns[items] = Col()\n",
    "    columns[items].ID = items\n",
    "    columns[items].fc = 3\n",
    "    columns[items].Pu = InternalForces[items]\n",
    "    columns[items].SelectCap()"
   ]
  },
  {
   "cell_type": "markdown",
   "metadata": {},
   "source": [
    "# Populate Workbook"
   ]
  },
  {
   "cell_type": "code",
   "execution_count": null,
   "metadata": {},
   "outputs": [],
   "source": [
    "### Load and Open Template\n",
    "\n",
    "import xlwings as xw\n",
    "pn = \"H:\\\\Design Spreadsheets\\\\\" # pathname\n",
    "fn = \"CRSI_08_Pilecap_Design\"  # filename\n",
    "ft = \".xlsx\"                   # filetype\n",
    "wb = xw.Book(pn+fn+ft) # open workbook\n",
    "modelname = FileName[:-4]\n",
    "newpn = pn+modelname+'\\\\' # pathname\n",
    "newfn = fn+'_'+modelname\n",
    "\n",
    "### Create Directory for PileCap Design Aids\n",
    "\n",
    "try: \n",
    "    os.mkdir(newpn)\n",
    "except FileExistsError:\n",
    "    print('directory already exists: overwriting')\n",
    "wb.save(newpn+newfn+ft) # save copy of template with new name specific to ETABS model\n",
    "\n",
    "### Populate Sheets with Design\n",
    "\n",
    "# loop through columns dictionary and populate an excel design aid with tabulated values for engineer inspection\n",
    "for items in columns:\n",
    "    columns[items].popxlsx(newpn,newfn)"
   ]
  },
  {
   "cell_type": "code",
   "execution_count": null,
   "metadata": {},
   "outputs": [],
   "source": [
    "type(columns['C1'].spacing)"
   ]
  },
  {
   "cell_type": "code",
   "execution_count": null,
   "metadata": {},
   "outputs": [],
   "source": []
  },
  {
   "cell_type": "code",
   "execution_count": null,
   "metadata": {},
   "outputs": [],
   "source": []
  }
 ],
 "metadata": {
  "kernelspec": {
   "display_name": "Python 3",
   "language": "python",
   "name": "python3"
  },
  "language_info": {
   "codemirror_mode": {
    "name": "ipython",
    "version": 3
   },
   "file_extension": ".py",
   "mimetype": "text/x-python",
   "name": "python",
   "nbconvert_exporter": "python",
   "pygments_lexer": "ipython3",
   "version": "3.7.3"
  }
 },
 "nbformat": 4,
 "nbformat_minor": 2
}
