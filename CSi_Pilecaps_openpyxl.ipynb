{
 "cells": [
  {
   "cell_type": "markdown",
   "metadata": {},
   "source": [
    "# Open ETABS"
   ]
  },
  {
   "cell_type": "code",
   "execution_count": 17,
   "metadata": {},
   "outputs": [],
   "source": [
    "import os\n",
    "import sys\n",
    "import comtypes.client\n",
    "import openpyxl\n",
    "\n",
    "#set the following flag to True to attach to an existing instance of the program\n",
    "#otherwise a new instance of the program will be started\n",
    "AttachToInstance = False\n",
    "\n",
    "#set the following flag to True to manually specify the path to ETABS.exe\n",
    "#this allows for a connection to a version of ETABS other than the latest installation\n",
    "#otherwise the latest installed version of ETABS will be launched\n",
    "SpecifyPath = True\n",
    "\n",
    "#if the above flag is set to True, specify the path to ETABS below\n",
    "ProgramPath = \"C:\\Program Files\\Computers and Structures\\ETABS 17\\ETABS.exe\"\n",
    "\n",
    "#full path to the model\n",
    "#set it to the desired path of your model\n",
    "APIPath = r\"C:\\Users\\mcoar\\Documents\\P1293\\P1293_Lagos\\ETABS\\V2.0\"\n",
    "if not os.path.exists(APIPath):\n",
    "    try:\n",
    "        os.makedirs(APIPath)\n",
    "    except OSError:\n",
    "        pass\n",
    "FileName = 'P1293-B_V2.0.edb'\n",
    "ModelPath = APIPath + os.sep + FileName\n",
    "\n",
    "if AttachToInstance:\n",
    "    #attach to a running instance of ETABS\n",
    "    try:\n",
    "        #get the active ETABS object\n",
    "        myETABSObject = comtypes.client.GetActiveObject(\"CSI.ETABS.API.ETABSObject\") \n",
    "    except (OSError, comtypes.COMError):\n",
    "        print(\"No running instance of the program found or failed to attach.\")\n",
    "        sys.exit(-1)\n",
    "\n",
    "else:\n",
    "    #create API helper object\n",
    "    helper = comtypes.client.CreateObject('ETABS2016.Helper')\n",
    "    helper = helper.QueryInterface(comtypes.gen.ETABS2016.cHelper)\n",
    "    if SpecifyPath:\n",
    "        try:\n",
    "            #'create an instance of the ETABS object from the specified path\n",
    "            myETABSObject = helper.CreateObject(ProgramPath)\n",
    "        except (OSError, comtypes.COMError):\n",
    "            print(\"Cannot start a new instance of the program from \" + ProgramPath)\n",
    "            sys.exit(-1)\n",
    "    else:\n",
    "\n",
    "        try: \n",
    "            #create an instance of the ETABS object from the latest installed ETABS\n",
    "            myETABSObject = helper.CreateObjectProgID(\"CSI.ETABS.API.ETABSObject\") \n",
    "        except (OSError, comtypes.COMError):\n",
    "            print(\"Cannot start a new instance of the program.\")\n",
    "            sys.exit(-1)\n",
    "\n",
    "    #start ETABS application\n",
    "    myETABSObject.ApplicationStart()"
   ]
  },
  {
   "cell_type": "markdown",
   "metadata": {},
   "source": [
    "# Open Model"
   ]
  },
  {
   "cell_type": "code",
   "execution_count": 18,
   "metadata": {},
   "outputs": [],
   "source": [
    "#create SapModel object\n",
    "SapModel = myETABSObject.SapModel\n",
    "\n",
    "#initialize model\n",
    "SapModel.InitializeNewModel()\n",
    "\n",
    "#open an existing file \n",
    "ret = SapModel.File.OpenFile(ModelPath)\n",
    "\n",
    "#switch to k-in units\n",
    "# kip_in_F = 3\n",
    "# ret = SapModel.SetPresentUnits(kip_in_F)\n"
   ]
  },
  {
   "cell_type": "markdown",
   "metadata": {},
   "source": [
    "# Run Model"
   ]
  },
  {
   "cell_type": "code",
   "execution_count": 19,
   "metadata": {},
   "outputs": [],
   "source": [
    "#run model (this will create the analysis model)\n",
    "ret = SapModel.Analyze.RunAnalysis()"
   ]
  },
  {
   "cell_type": "markdown",
   "metadata": {},
   "source": [
    "# Test Bed"
   ]
  },
  {
   "cell_type": "markdown",
   "metadata": {},
   "source": [
    "## Retrieve the names of all frames connected to the story LO1."
   ]
  },
  {
   "cell_type": "code",
   "execution_count": 20,
   "metadata": {},
   "outputs": [
    {
     "name": "stdout",
     "output_type": "stream",
     "text": [
      "96\n"
     ]
    }
   ],
   "source": [
    "StoryName = 'L01'\n",
    "NumberNames = 0\n",
    "MyName = []\n",
    "[NumberNames, MyName, ret] = SapModel.FrameObj.GetNameListOnStory(StoryName,NumberNames,MyName)\n",
    "print(NumberNames)"
   ]
  },
  {
   "cell_type": "markdown",
   "metadata": {},
   "source": [
    "## Retrieve the names of all frames (i.e., columns) in the user-defined group \"BaseColumn\""
   ]
  },
  {
   "cell_type": "code",
   "execution_count": 21,
   "metadata": {},
   "outputs": [
    {
     "name": "stdout",
     "output_type": "stream",
     "text": [
      "38\n"
     ]
    }
   ],
   "source": [
    "GroupName = \"BaseColumn\"\n",
    "NumberItems = 0  # initialize as double\n",
    "ObjectType = []  # initialize as empty list\n",
    "ObjectName = []  # initialize as empty list\n",
    "[NumberItems, ObjectType, ObjectName, ret] = SapModel.GroupDef.GetAssignments(GroupName,NumberItems,ObjectType,ObjectName)\n",
    "print(NumberItems)\n",
    "# for i in range(0,5):\n",
    "#     print(ObjectName[i])\n",
    "    "
   ]
  },
  {
   "cell_type": "markdown",
   "metadata": {},
   "source": [
    "## Retrieve the forces in the columns in the user-defined group \"BaseColumn\""
   ]
  },
  {
   "cell_type": "code",
   "execution_count": 22,
   "metadata": {},
   "outputs": [],
   "source": [
    "# deselect all cases and combos\n",
    "ret = SapModel.Results.Setup.DeselectAllCasesAndCombosForOutput()\n",
    "# set case selected for output\n",
    "ret = SapModel.Results.Setup.SetCaseSelectedForOutput(\"CDL\")\n",
    "# initialize variable names\n",
    "GroupName = \"BaseColumn\"\n",
    "ItemType = 2      # eItemTypeElm.2 = a group item\n",
    "NumberResults = 0\n",
    "Obj = []; ObjSta = []\n",
    "Elm = []; ElmSta = []\n",
    "LoadCase = ['CDL']\n",
    "StepType = []; StepNum = []\n",
    "P = []\n",
    "V2 = []; V3 = []\n",
    "T = []\n",
    "M2 = []; M3 = []\n",
    "\n",
    "[NumberResults, Obj, ObjSta, Elm, ElmSta, LoadCase, StepType, StepNum, P, V2, V3, T, M2, M3, ret] = \\\n",
    "SapModel.Results.FrameForce(\"BaseColumn\", \\\n",
    "                            ItemType, NumberResults, Obj, ObjSta, Elm, ElmSta, LoadCase, StepType, StepNum, \\\n",
    "                            P, V2, V3, T, M2, M3)"
   ]
  },
  {
   "cell_type": "markdown",
   "metadata": {},
   "source": [
    "# Close ETABS"
   ]
  },
  {
   "cell_type": "code",
   "execution_count": 23,
   "metadata": {},
   "outputs": [],
   "source": [
    "#save model\n",
    "ret = SapModel.File.Save(ModelPath)\n",
    "\n",
    "#close the program\n",
    "ret = myETABSObject.ApplicationExit(False)\n",
    "SapModel = None\n",
    "myETABSObject = None"
   ]
  },
  {
   "cell_type": "markdown",
   "metadata": {},
   "source": [
    "# Define Column Class"
   ]
  },
  {
   "cell_type": "code",
   "execution_count": 65,
   "metadata": {},
   "outputs": [],
   "source": [
    "class Col:\n",
    "    \n",
    "    level = 'L01'\n",
    "    \n",
    "    def __init__(self):\n",
    "        self.ID = []\n",
    "        self.Pu = []     # factored load on column [kip]\n",
    "        self.fc = []     # concrete strength of PILE [psi]\n",
    "        self.Np = []     # Number of piles\n",
    "        self.Pn = []     # Nominal capacity [kip]\n",
    "        self.c = []    # column square dimensions [in]\n",
    "        self.D = []      # Pilecap depth [in]\n",
    "        self.dp = []     # pile diameter [in]\n",
    "        self.spacing =[] # spacing between piles [in]\n",
    "        self.cover =  [] # minimum concrete cover [in]\n",
    "        self.dc =     [] # pile embedment [in]\n",
    "        self.E =      [] # edge distance [in]\n",
    "        self.NreinA = [] # Number of reinforcing bars in the long direction\n",
    "        self.SreinA = [] # Size   of reinforcing bars in the long direction\n",
    "        self.NreinB = [] # Number of reinforcing bars in the short direction\n",
    "        self.SreinB = [] # Size   of reinforcing bars in the short direction\n",
    "\n",
    "    def SelectCap(self, fc = 3, T = 50, maxdim = 30, maxD = 100):\n",
    "        \"\"\"\n",
    "        This method takes an object of class Col and chooses a tabulated column pile cap\n",
    "        design with maximum dimensions -maxdim- [ft] and max depth -maxD- [in]. Concrete \n",
    "        strength -fc- [psi] and unfactored capacity -T- [tons]. \n",
    "        \"\"\"\n",
    "        from openpyxl import load_workbook\n",
    "        import time\n",
    "\n",
    "        t = time.time()\n",
    "        wb = load_workbook(filename = 'H:\\Design Spreadsheets\\CRSIDesignTables\\PileCapTable.xlsx')\n",
    "        topen = time.time()-t\n",
    "        \n",
    "        t = time.time()\n",
    "        sn = str(fc)+'ksi-'+str(T)+'T'  # sheet name\n",
    "        sheet = wb[sn]                  # select sheet\n",
    "        Nrows = sheet.max_row           # number of rows in sheet\n",
    "        begin = 8                       # Header takes up 7 rows\n",
    "\n",
    "        for x in range(begin,Nrows+1):\n",
    "            try:\n",
    "                if x == Nrows: \n",
    "                    Choice = x\n",
    "                    print(\"{2}: No tabulated design available at fc = {0} ksi and pile capacity {1}.\".format(fc,T,self.ID))\n",
    "                    break\n",
    "                elif sheet.cell(row=x,column=2).value > abs(self.Pu): \n",
    "                    Adim = sheet.cell(row=x,column=4).value+ \\\n",
    "                            sheet.cell(row=x,column=5).value/12\n",
    "                    Bdim = sheet.cell(row=x,column=6).value+ \\\n",
    "                            sheet.cell(row=x,column=7).value/12  \n",
    "                    Depth = sheet.cell(row=x,column=8).value\n",
    "                    if Adim <= maxdim and Bdim <= maxdim and Depth<=maxD:\n",
    "                        Choice = x\n",
    "    #                         print(\"Good! Pn = {0:4.0f} kip is greater than Pu = {1:4.0f} kip\".format(sheet.cell(row=x,column=2).value, abs(self.Pu)))\n",
    "                        break\n",
    "                    else:\n",
    "                        print(\"{0}: a pilecap exceeds the user-defined maximum dimensions. Continuing to search\".format(self.ID))\n",
    "                else: \n",
    "#                         print(\"No good: Pn = {0:4.0f} kip must be greater than Pu = {1:4.0f} kip\".format(sheet.cell(row=x,column=2).value, abs(self.Pu)))\n",
    "                    continue\n",
    "            except:\n",
    "                continue\n",
    "        tchoose = time.time() - t\n",
    "\n",
    "        t = time.time()\n",
    "        self.T = T\n",
    "        self.fc = fc\n",
    "        \n",
    "        self.Np = sheet.cell(row=Choice,column=1).value      # Number of piles\n",
    "        self.Pn = abs(sheet.cell(row=Choice,column=2).value)   # Nominal capacity [kip]\n",
    "        self.c = sheet.cell(row=Choice,column=3).value     # column square dimensions [in]\n",
    "        self.D = sheet.cell(row=Choice,column=8).value        # Pilecap depth [in]\n",
    "\n",
    "        self.dp = sheet.cell(row=2,column = 4).value          # pile diameter [in]\n",
    "        self.spacing = sheet.cell(row=2, column = 5).value    # spacing between piles [in]\n",
    "        self.cover = sheet.cell(row=2,column = 6).value       # minimum concrete cover [in]\n",
    "        self.dc = sheet.cell(row=2, column = 7).value         # pile embedment [in]\n",
    "        self.E = sheet.cell(row=2,column = 8).value           # edge distance [in]\n",
    "\n",
    "        self.NreinA = sheet.cell(row=Choice,column = 10).value # Number of reinforcing bars in the long direction\n",
    "        self.SreinA = sheet.cell(row=Choice,column = 11).value # Size   of reinforcing bars in the long direction\n",
    "        self.NreinB = sheet.cell(row=Choice,column = 13).value # Number of reinforcing bars in the short direction\n",
    "        self.SreinB = sheet.cell(row=Choice,column = 14).value # Size   of reinforcing bars in the short direction\n",
    "        \n",
    "        tassign = time.time()-t\n",
    "        t = topen + tchoose + tassign\n",
    "        print(\"{0}: t = {1:1.5f} Pu = {2:5.0f} Pn = {3:5.0f}\".format(self.ID,t,self.Pu,self.Pn))\n",
    "        \n",
    "    def popxlsx(self,pn,fn):\n",
    "        \"\"\"\n",
    "        This method takes an instance of class Col() that has been assigned pile cap design parameters\n",
    "        based on method SelectCap() and populates a design workbook with these parameters for engineer\n",
    "        inspection.\n",
    "        \"\"\"\n",
    "        from openpyxl import load_workbook\n",
    "        ft = '.xlsx'                         # filetype\n",
    "\n",
    "        wb = load_workbook(filename = pn+fn+ft) # open workbook\n",
    "        ws = wb['DESIGN CRIT'] # make this sheet active\n",
    "\n",
    "        # Update sheet based on column parameters\n",
    "        ws['E36']  = self.fc\n",
    "        ws['F46']  = self.T\n",
    "        ws['F45']  = self.Np\n",
    "        ws['E30']  = self.c\n",
    "        ws['E27']  = self.D \n",
    "        ws['E29']  = self.dp\n",
    "        ws['E103'] = self.spacing / 12 \n",
    "        ws['E38']  = self.cover\n",
    "        ws['E31']  = self.dc\n",
    "        ws['E28']  = self.E\n",
    "        ws['E353'] = self.NreinA\n",
    "        ws['F353'] = '#'+str(self.SreinA)\n",
    "        ws['E387'] = self.NreinB\n",
    "        ws['F387'] = '#'+str(self.SreinB)              \n",
    "\n",
    "        wb.save(filename = pn+fn+'_'+self.ID+ft) # save workbook\n"
   ]
  },
  {
   "cell_type": "markdown",
   "metadata": {},
   "source": [
    "# Select Tabulated PileCap Design"
   ]
  },
  {
   "cell_type": "code",
   "execution_count": 66,
   "metadata": {
    "scrolled": true
   },
   "outputs": [
    {
     "name": "stdout",
     "output_type": "stream",
     "text": [
      "C1: t = 0.80405 Pu = -2046 Pn =  2156\n",
      "C2: t = 0.66204 Pu =  -838 Pn =   848\n",
      "C3: t = 0.62504 Pu =  -859 Pn =   973\n",
      "C4: t = 0.64104 Pu =  -871 Pn =   973\n",
      "C5: No tabulated design available at fc = 4 ksi and pile capacity 40.\n",
      "C5: t = 0.75804 Pu = -5019 Pn =  3540\n",
      "C7: a pilecap exceeds the user-defined maximum dimensions. Continuing to search\n",
      "C7: a pilecap exceeds the user-defined maximum dimensions. Continuing to search\n",
      "C7: a pilecap exceeds the user-defined maximum dimensions. Continuing to search\n",
      "C7: a pilecap exceeds the user-defined maximum dimensions. Continuing to search\n",
      "C7: a pilecap exceeds the user-defined maximum dimensions. Continuing to search\n",
      "C7: a pilecap exceeds the user-defined maximum dimensions. Continuing to search\n",
      "C7: a pilecap exceeds the user-defined maximum dimensions. Continuing to search\n",
      "C7: No tabulated design available at fc = 4 ksi and pile capacity 40.\n",
      "C7: t = 0.63704 Pu = -2328 Pn =  3540\n",
      "C8: t = 0.62804 Pu = -1335 Pn =  1336\n",
      "C9: t = 0.76304 Pu =  -990 Pn =  1091\n",
      "C10: t = 0.63204 Pu = -1186 Pn =  1206\n",
      "C11: t = 0.64104 Pu =  -997 Pn =  1091\n",
      "C12: a pilecap exceeds the user-defined maximum dimensions. Continuing to search\n",
      "C12: a pilecap exceeds the user-defined maximum dimensions. Continuing to search\n",
      "C12: No tabulated design available at fc = 4 ksi and pile capacity 40.\n",
      "C12: t = 0.64304 Pu = -3086 Pn =  3540\n",
      "C13: t = 0.76404 Pu =  -807 Pn =   848\n",
      "C14: t = 0.64604 Pu =  -968 Pn =   973\n",
      "C15: t = 0.63904 Pu =  -843 Pn =   848\n",
      "C16: t = 0.65604 Pu =  -884 Pn =   973\n",
      "C17: t = 0.77004 Pu =  -694 Pn =   727\n",
      "C18: t = 0.64404 Pu =   235 Pn =   371\n",
      "C19: t = 0.63904 Pu =  -284 Pn =   371\n",
      "C20: t = 0.63604 Pu = -1138 Pn =  1206\n",
      "C21: t = 0.76804 Pu = -1361 Pn =  1451\n",
      "C22: t = 0.65104 Pu = -1129 Pn =  1206\n",
      "C23: t = 0.63204 Pu =  -893 Pn =   973\n",
      "C24: t = 0.66804 Pu =  -209 Pn =   371\n",
      "C25: No tabulated design available at fc = 4 ksi and pile capacity 40.\n",
      "C25: t = 0.75104 Pu = -4983 Pn =  3540\n",
      "C27: No tabulated design available at fc = 4 ksi and pile capacity 40.\n",
      "C27: t = 0.62904 Pu = -4216 Pn =  3540\n",
      "C29: a pilecap exceeds the user-defined maximum dimensions. Continuing to search\n",
      "C29: No tabulated design available at fc = 4 ksi and pile capacity 40.\n",
      "C29: t = 0.64904 Pu = -3205 Pn =  3540\n",
      "C30: t = 0.74004 Pu =  -144 Pn =   371\n",
      "C31: t = 0.65504 Pu = -1014 Pn =  1091\n",
      "C32: t = 0.63504 Pu =     5 Pn =   371\n",
      "C33: t = 0.62904 Pu =  -108 Pn =   371\n",
      "C35: t = 0.77304 Pu =  -743 Pn =   848\n",
      "C36: t = 0.63304 Pu =  -559 Pn =   609\n",
      "C39: t = 0.62104 Pu =  -650 Pn =   727\n",
      "C40: t = 0.62104 Pu =   535 Pn =   609\n",
      "C41: t = 0.76404 Pu = -1058 Pn =  1091\n",
      "C42: t = 0.62804 Pu =  -928 Pn =   973\n",
      "C43: a pilecap exceeds the user-defined maximum dimensions. Continuing to search\n",
      "C43: a pilecap exceeds the user-defined maximum dimensions. Continuing to search\n",
      "C43: a pilecap exceeds the user-defined maximum dimensions. Continuing to search\n",
      "C43: a pilecap exceeds the user-defined maximum dimensions. Continuing to search\n",
      "C43: a pilecap exceeds the user-defined maximum dimensions. Continuing to search\n",
      "C43: a pilecap exceeds the user-defined maximum dimensions. Continuing to search\n",
      "C43: No tabulated design available at fc = 4 ksi and pile capacity 40.\n",
      "C43: t = 0.64304 Pu = -2461 Pn =  3540\n",
      "C44: a pilecap exceeds the user-defined maximum dimensions. Continuing to search\n",
      "C44: a pilecap exceeds the user-defined maximum dimensions. Continuing to search\n",
      "C44: No tabulated design available at fc = 4 ksi and pile capacity 40.\n",
      "C44: t = 0.64304 Pu = -2879 Pn =  3540\n"
     ]
    }
   ],
   "source": [
    "# Create a dictionary of Column Names and Internal Forces\n",
    "columns = {}\n",
    "InternalForces = {}\n",
    "\n",
    "for i in range(0,len(Obj),3):\n",
    "    columns[\"C\"+Obj[i]] = Obj[i]\n",
    "    InternalForces[\"C\"+Obj[i]] = P[i]\n",
    "    \n",
    "# Replace the entries in the column dictionary with instances of class Col\n",
    "for items in columns:\n",
    "    columns[items] = Col()\n",
    "    columns[items].ID = items\n",
    "    columns[items].Pu = InternalForces[items]\n",
    "    columns[items].SelectCap(T=40,fc = 4, maxdim = 13)"
   ]
  },
  {
   "cell_type": "markdown",
   "metadata": {},
   "source": [
    "## Populate Workbook"
   ]
  },
  {
   "cell_type": "code",
   "execution_count": null,
   "metadata": {},
   "outputs": [],
   "source": [
    "# load template and save new workbook\n",
    "from openpyxl import load_workbook\n",
    "pn = \"H:\\\\Design Spreadsheets\\\\\" # pathname\n",
    "fn = \"CRSI_08_Pilecap_Design\"  # filename\n",
    "ft = \".xlsx\"                   # filetype\n",
    "wb = load_workbook(filename = pn+fn+ft) # open workbook\n",
    "modelname = FileName[:-4]\n",
    "newpn = pn+modelname+'\\\\' # pathname\n",
    "newfn = fn+'_'+modelname\n",
    "try: \n",
    "    os.mkdir(newpn)\n",
    "except FileExistsError:\n",
    "    print('directory already exists: overwriting')\n",
    "wb.save(filename = newpn+newfn+ft) # save copy of template with new name specific to ETABS model\n",
    "\n",
    "# loop through columns dictionary and populate an excel design aid with tabulated values for engineer inspection\n",
    "for items in columns:\n",
    "    columns[items].popxlsx(newpn,newfn)"
   ]
  },
  {
   "cell_type": "code",
   "execution_count": null,
   "metadata": {},
   "outputs": [],
   "source": [
    "type(columns['C1'].spacing)"
   ]
  },
  {
   "cell_type": "code",
   "execution_count": null,
   "metadata": {},
   "outputs": [],
   "source": []
  },
  {
   "cell_type": "code",
   "execution_count": null,
   "metadata": {},
   "outputs": [],
   "source": []
  }
 ],
 "metadata": {
  "kernelspec": {
   "display_name": "Python 3",
   "language": "python",
   "name": "python3"
  },
  "language_info": {
   "codemirror_mode": {
    "name": "ipython",
    "version": 3
   },
   "file_extension": ".py",
   "mimetype": "text/x-python",
   "name": "python",
   "nbconvert_exporter": "python",
   "pygments_lexer": "ipython3",
   "version": "3.7.3"
  }
 },
 "nbformat": 4,
 "nbformat_minor": 2
}
